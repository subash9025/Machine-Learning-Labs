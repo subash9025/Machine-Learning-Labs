{
  "nbformat": 4,
  "nbformat_minor": 0,
  "metadata": {
    "colab": {
      "provenance": [],
      "collapsed_sections": [],
      "authorship_tag": "ABX9TyPUeDmrdoFpFMXOVrFaCTAF",
      "include_colab_link": true
    },
    "kernelspec": {
      "name": "python3",
      "display_name": "Python 3"
    },
    "language_info": {
      "name": "python"
    }
  },
  "cells": [
    {
      "cell_type": "markdown",
      "metadata": {
        "id": "view-in-github",
        "colab_type": "text"
      },
      "source": [
        "<a href=\"https://colab.research.google.com/github/subash9025/Machine-Learning-Labs/blob/main/tensorflow.ipynb\" target=\"_parent\"><img src=\"https://colab.research.google.com/assets/colab-badge.svg\" alt=\"Open In Colab\"/></a>"
      ]
    },
    {
      "cell_type": "code",
      "execution_count": null,
      "metadata": {
        "id": "hTQAs04ORUmd"
      },
      "outputs": [],
      "source": [
        "import tensorflow as tf\n"
      ]
    },
    {
      "cell_type": "code",
      "source": [
        "a = tf.constant([4,7,8])\n",
        "b = tf.constant([2,8,9])\n",
        "c = tf.multiply(a,b)\n",
        "print(c)"
      ],
      "metadata": {
        "colab": {
          "base_uri": "https://localhost:8080/"
        },
        "id": "IgVJPFOGSXMt",
        "outputId": "3d2530d5-b8c9-46fc-94f7-af79efb6315a"
      },
      "execution_count": null,
      "outputs": [
        {
          "output_type": "stream",
          "name": "stdout",
          "text": [
            "tf.Tensor([ 8 56 72], shape=(3,), dtype=int32)\n"
          ]
        }
      ]
    },
    {
      "cell_type": "code",
      "source": [
        "def fib(n):\n",
        "\t\tif n== 0 or n== 1:\n",
        "\t\t\treturn n\n",
        "\t\treturn fib (n- 1) + fib (n- 2) \n",
        "fib(6)"
      ],
      "metadata": {
        "colab": {
          "base_uri": "https://localhost:8080/"
        },
        "id": "5HthcNQTXO4Q",
        "outputId": "0b5720de-bfd5-485e-dd27-2560afbee0b9"
      },
      "execution_count": null,
      "outputs": [
        {
          "output_type": "execute_result",
          "data": {
            "text/plain": [
              "8"
            ]
          },
          "metadata": {},
          "execution_count": 11
        }
      ]
    },
    {
      "cell_type": "code",
      "source": [
        "nterms = int(input(\"How many terms? \"))\n",
        "\n",
        "\n",
        "n1, n2 = 0, 1\n",
        "count = 0\n",
        "\n",
        "\n",
        "if nterms <= 0:\n",
        "   print(\"Please enter a positive integer\")\n",
        "\n",
        "elif nterms == 1:\n",
        "   print(\"Fibonacci sequence upto\",nterms,\":\")\n",
        "   print(n1)\n",
        "\n",
        "else:\n",
        "   print(\"Fibonacci sequence:\")\n",
        "   while count < nterms:\n",
        "       print(n1)\n",
        "       nth = n1 + n2\n",
        "       n1 = n2\n",
        "       n2 = nth\n",
        "       count += 1\n"
      ],
      "metadata": {
        "colab": {
          "base_uri": "https://localhost:8080/"
        },
        "id": "CIgH8aF1ig-A",
        "outputId": "9be12ea3-335e-4af6-a1e4-b67956f5b94b"
      },
      "execution_count": null,
      "outputs": [
        {
          "output_type": "stream",
          "name": "stdout",
          "text": [
            "How many terms? 23\n",
            "Fibonacci sequence:\n",
            "0\n",
            "1\n",
            "1\n",
            "2\n",
            "3\n",
            "5\n",
            "8\n",
            "13\n",
            "21\n",
            "34\n",
            "55\n",
            "89\n",
            "144\n",
            "233\n",
            "377\n",
            "610\n",
            "987\n",
            "1597\n",
            "2584\n",
            "4181\n",
            "6765\n",
            "10946\n",
            "17711\n"
          ]
        }
      ]
    },
    {
      "cell_type": "code",
      "source": [
        "import tensorflow.compat.v1 as tf\n",
        "tf.compat.v1.disable_eager_execution()\n",
        "graph = tf.Graph()\n",
        "with graph.as_default():\n",
        "  a = tf.placeholder(tf.float64, shape=(3, 3), name='tensor1')\n",
        "  b = a ** 2\n",
        "array1 = [[1, 2, 3], [4, 5, 6], [7, 8, 9]]\n",
        "with tf.Session(graph=graph) as session:\n",
        "  operation_res = session.run(b, feed_dict={a: array1})\n",
        "  print(\"after executing the operation: \")\n",
        "  print(operation_res)\n",
        "\n",
        "\n",
        "import tensorflow.compat.v1 as tf\n",
        "tf.compat.v1.disable_eager_execution()\n",
        "u = tf.Variable(tf.cast(1,\"int64\"))\n",
        "v = tf.Variable(tf.cast(0,\"int64\"))\n",
        "\n",
        "update_u = tf.assign(u, tf.math.add(u,v))\n",
        "update_v = tf.assign(v, tf.math.subtract(u,v))\n",
        "\n",
        "init = tf.initialize_all_variables()\n",
        "\n",
        "with tf.Session() as sess:\n",
        "  sess.run(init)\n",
        "  for i in range(100):\n",
        "    print (i, sess.run(v))\n",
        "    sess.run(update_u)\n",
        "    sess.run(update_v)\n"
      ],
      "metadata": {
        "colab": {
          "base_uri": "https://localhost:8080/"
        },
        "id": "9QlXDo1px3_T",
        "outputId": "4a7ec847-0d54-494c-8832-282ebf33f326"
      },
      "execution_count": 18,
      "outputs": [
        {
          "output_type": "stream",
          "name": "stderr",
          "text": [
            "WARNING:tensorflow:From /usr/local/lib/python3.7/dist-packages/tensorflow/python/util/tf_should_use.py:243: initialize_all_variables (from tensorflow.python.ops.variables) is deprecated and will be removed after 2017-03-02.\n",
            "Instructions for updating:\n",
            "Use `tf.global_variables_initializer` instead.\n"
          ]
        },
        {
          "output_type": "stream",
          "name": "stdout",
          "text": [
            "after executing the operation: \n",
            "[[ 1.  4.  9.]\n",
            " [16. 25. 36.]\n",
            " [49. 64. 81.]]\n",
            "0 0\n",
            "1 1\n",
            "2 1\n",
            "3 2\n",
            "4 3\n",
            "5 5\n",
            "6 8\n",
            "7 13\n",
            "8 21\n",
            "9 34\n",
            "10 55\n",
            "11 89\n",
            "12 144\n",
            "13 233\n",
            "14 377\n",
            "15 610\n",
            "16 987\n",
            "17 1597\n",
            "18 2584\n",
            "19 4181\n",
            "20 6765\n",
            "21 10946\n",
            "22 17711\n",
            "23 28657\n",
            "24 46368\n",
            "25 75025\n",
            "26 121393\n",
            "27 196418\n",
            "28 317811\n",
            "29 514229\n",
            "30 832040\n",
            "31 1346269\n",
            "32 2178309\n",
            "33 3524578\n",
            "34 5702887\n",
            "35 9227465\n",
            "36 14930352\n",
            "37 24157817\n",
            "38 39088169\n",
            "39 63245986\n",
            "40 102334155\n",
            "41 165580141\n",
            "42 267914296\n",
            "43 433494437\n",
            "44 701408733\n",
            "45 1134903170\n",
            "46 1836311903\n",
            "47 2971215073\n",
            "48 4807526976\n",
            "49 7778742049\n",
            "50 12586269025\n",
            "51 20365011074\n",
            "52 32951280099\n",
            "53 53316291173\n",
            "54 86267571272\n",
            "55 139583862445\n",
            "56 225851433717\n",
            "57 365435296162\n",
            "58 591286729879\n",
            "59 956722026041\n",
            "60 1548008755920\n",
            "61 2504730781961\n",
            "62 4052739537881\n",
            "63 6557470319842\n",
            "64 10610209857723\n",
            "65 17167680177565\n",
            "66 27777890035288\n",
            "67 44945570212853\n",
            "68 72723460248141\n",
            "69 117669030460994\n",
            "70 190392490709135\n",
            "71 308061521170129\n",
            "72 498454011879264\n",
            "73 806515533049393\n",
            "74 1304969544928657\n",
            "75 2111485077978050\n",
            "76 3416454622906707\n",
            "77 5527939700884757\n",
            "78 8944394323791464\n",
            "79 14472334024676221\n",
            "80 23416728348467685\n",
            "81 37889062373143906\n",
            "82 61305790721611591\n",
            "83 99194853094755497\n",
            "84 160500643816367088\n",
            "85 259695496911122585\n",
            "86 420196140727489673\n",
            "87 679891637638612258\n",
            "88 1100087778366101931\n",
            "89 1779979416004714189\n",
            "90 2880067194370816120\n",
            "91 4660046610375530309\n",
            "92 7540113804746346429\n",
            "93 -6246583658587674878\n",
            "94 1293530146158671551\n",
            "95 -4953053512429003327\n",
            "96 -3659523366270331776\n",
            "97 -8612576878699335103\n",
            "98 6174643828739884737\n",
            "99 -2437933049959450366\n"
          ]
        }
      ]
    }
  ]
}